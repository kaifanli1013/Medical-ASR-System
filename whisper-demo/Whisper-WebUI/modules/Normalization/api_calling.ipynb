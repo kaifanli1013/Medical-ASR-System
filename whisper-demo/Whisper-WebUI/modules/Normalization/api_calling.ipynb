{
 "cells": [
  {
   "cell_type": "code",
   "execution_count": 1,
   "metadata": {},
   "outputs": [
    {
     "name": "stdout",
     "output_type": "stream",
     "text": [
      "响应数据: {'Hello': 'sip3-dictionary-api'}\n"
     ]
    }
   ],
   "source": [
    "import requests\n",
    "\n",
    "# API的URL\n",
    "url = \"https://nlp.sociocom.jp/sip3/api\"\n",
    "\n",
    "# 请求参数\n",
    "params = {\n",
    "    \"category\": \"body,disease\",  # 替换为实际需要的category值\n",
    "    \"code\": \"to_jamsmdic,to_lilak\"  # 替换为实际需要的code值\n",
    "}\n",
    "\n",
    "# 发送POST请求\n",
    "response = requests.post(url, data=params)\n",
    "\n",
    "# 检查响应状态码\n",
    "if response.status_code == 200:\n",
    "    # 请求成功，处理响应数据\n",
    "    print(\"响应数据:\", response.json())\n",
    "else:\n",
    "    # 请求失败，打印错误信息\n",
    "    print(\"请求失败，状态码:\", response.status_code)\n",
    "    print(\"错误信息:\", response.text)"
   ]
  },
  {
   "cell_type": "code",
   "execution_count": 22,
   "metadata": {},
   "outputs": [
    {
     "name": "stdout",
     "output_type": "stream",
     "text": [
      "响应数据: [{'standard_name': ['胃痛'], 'standard_name_reliability': 'S', 'sentence_idx': 1, 'start_idx': 7, 'end_idx': 9, 'text': '胃痛', 'category': 'disease', 'certainty': 'positive'}, {'standard_name': ['疼痛'], 'standard_name_reliability': 'A', 'sentence_idx': 1, 'start_idx': 15, 'end_idx': 17, 'text': '痛み', 'category': 'disease', 'certainty': 'positive'}, {'standard_name': ['体重減少'], 'standard_name_reliability': 'S', 'sentence_idx': 2, 'start_idx': 1, 'end_idx': 5, 'text': '体重減少', 'category': 'disease', 'certainty': 'positive'}]\n"
     ]
    }
   ],
   "source": [
    "import requests\n",
    "\n",
    "# API的URL\n",
    "url = \"https://nlp.sociocom.jp/sip3/api/norms\"\n",
    "\n",
    "# 请求参数\n",
    "params = {\n",
    "    \"text\": \"\"\"現病歴:\n",
    "-3ヶ月前から胃痛、特に食後に痛みが増す\n",
    "-体重減少\n",
    "\"\"\",  # 替换为实际的医学单词\n",
    "    \"category\": \"disease\",  # 可选参数，替换为实际的类别\n",
    "    \"min_reliability\": \"C\"\n",
    "}\n",
    "\n",
    "# 发送GET请求\n",
    "response = requests.get(url, params=params)\n",
    "\n",
    "# 检查响应状态码\n",
    "if response.status_code == 200:\n",
    "    # 请求成功，处理响应数据\n",
    "    print(\"响应数据:\", response.json())\n",
    "else:\n",
    "    # 请求失败，打印错误信息\n",
    "    print(\"请求失败，状态码:\", response.status_code)\n",
    "    print(\"错误信息:\", response.text)\n"
   ]
  },
  {
   "cell_type": "code",
   "execution_count": 15,
   "metadata": {},
   "outputs": [
    {
     "data": {
      "text/plain": [
       "[]"
      ]
     },
     "execution_count": 15,
     "metadata": {},
     "output_type": "execute_result"
    }
   ],
   "source": [
    "response.json()"
   ]
  },
  {
   "cell_type": "code",
   "execution_count": 24,
   "metadata": {},
   "outputs": [
    {
     "name": "stdout",
     "output_type": "stream",
     "text": [
      "响应数据: []\n"
     ]
    }
   ],
   "source": [
    "import requests\n",
    "\n",
    "# API的URL\n",
    "url = \"https://nlp.sociocom.jp/sip3/api/patient_terms\"\n",
    "\n",
    "# 请求参数\n",
    "params = {\n",
    "    \"text\": \"\"\"現病歴:\n",
    "-3ヶ月前から胃痛、特に食後に痛みが増す\n",
    "-体重減少\n",
    "\"\"\",  # 替换为实际的医学单词\n",
    "    \"category\": \"disease\",  # 可选参数，替换为实际的类别\n",
    "    \"min_reliability\": \"C\"\n",
    "}\n",
    "\n",
    "# 发送GET请求\n",
    "response = requests.get(url, params=params)\n",
    "\n",
    "# 检查响应状态码\n",
    "if response.status_code == 200:\n",
    "    # 请求成功，处理响应数据\n",
    "    print(\"响应数据:\", response.json())\n",
    "else:\n",
    "    # 请求失败，打印错误信息\n",
    "    print(\"请求失败，状态码:\", response.status_code)\n",
    "    print(\"错误信息:\", response.text)\n"
   ]
  },
  {
   "cell_type": "code",
   "execution_count": null,
   "metadata": {},
   "outputs": [],
   "source": []
  }
 ],
 "metadata": {
  "kernelspec": {
   "display_name": "transformers",
   "language": "python",
   "name": "python3"
  },
  "language_info": {
   "codemirror_mode": {
    "name": "ipython",
    "version": 3
   },
   "file_extension": ".py",
   "mimetype": "text/x-python",
   "name": "python",
   "nbconvert_exporter": "python",
   "pygments_lexer": "ipython3",
   "version": "3.10.12"
  }
 },
 "nbformat": 4,
 "nbformat_minor": 2
}
