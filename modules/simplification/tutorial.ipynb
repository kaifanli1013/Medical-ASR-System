{
 "cells": [
  {
   "cell_type": "code",
   "execution_count": 3,
   "metadata": {},
   "outputs": [
    {
     "name": "stdout",
     "output_type": "stream",
     "text": [
      "  category disease gender  age  話者                                speech-text  \\\n",
      "0    心血管疾患     高血圧     男性  50代  医者                      こんにちは。今日はどのようなご相談ですか？   \n",
      "1      NaN     NaN    NaN  NaN  患者  最近、血圧が高いと言われました。特にここ数ヶ月、頭痛やめまいがひどくなっています。   \n",
      "2      NaN     NaN    NaN  NaN  医者             それは心配ですね。いつ頃からそのような症状が始まりましたか？   \n",
      "3      NaN     NaN    NaN  NaN  患者    おそらく半年くらい前からです。最初は時々だったのですが、最近は頻繁に感じます。   \n",
      "4      NaN     NaN    NaN  NaN  医者           他に何か気になる症状はありますか？例えば、胸の痛みや息切れなど。   \n",
      "\n",
      "                 report-text  \n",
      "0                         -   \n",
      "1                         -   \n",
      "2                         -   \n",
      "3  現病歴:\\n- 半年前から頭痛とめまいが頻繁に発生  \n",
      "4                         -   \n"
     ]
    }
   ],
   "source": [
    "import pandas as pd\n",
    "\n",
    "file_path = './data/gpt_generated_medical_dialogue.xlsx'\n",
    "\n",
    "df = pd.read_excel(file_path)\n",
    "print(df.head())"
   ]
  },
  {
   "cell_type": "code",
   "execution_count": 6,
   "metadata": {},
   "outputs": [
    {
     "data": {
      "text/plain": [
       "712"
      ]
     },
     "execution_count": 6,
     "metadata": {},
     "output_type": "execute_result"
    }
   ],
   "source": [
    "len(df)"
   ]
  },
  {
   "cell_type": "code",
   "execution_count": 5,
   "metadata": {},
   "outputs": [
    {
     "data": {
      "text/plain": [
       "712"
      ]
     },
     "execution_count": 5,
     "metadata": {},
     "output_type": "execute_result"
    }
   ],
   "source": [
    "user_number = df[df['speech-text'].notna()].shape[0]\n",
    "user_number"
   ]
  },
  {
   "cell_type": "code",
   "execution_count": 7,
   "metadata": {},
   "outputs": [
    {
     "data": {
      "text/plain": [
       "Index(['category', 'disease', 'gender', 'age', '話者', 'speech-text',\n",
       "       'report-text'],\n",
       "      dtype='object')"
      ]
     },
     "execution_count": 7,
     "metadata": {},
     "output_type": "execute_result"
    }
   ],
   "source": [
    "df.keys()"
   ]
  },
  {
   "cell_type": "code",
   "execution_count": 11,
   "metadata": {},
   "outputs": [
    {
     "name": "stdout",
     "output_type": "stream",
     "text": [
      "0                           - \n",
      "1                           - \n",
      "2                           - \n",
      "3    現病歴:\\n- 半年前から頭痛とめまいが頻繁に発生\n",
      "4                           - \n",
      "Name: report-text, dtype: object\n",
      "\n",
      "NaN values in 'report- text':\n",
      "0\n",
      "\n",
      "Non-string values in 'report-text':\n",
      "Series([], Name: report-text, dtype: object)\n"
     ]
    }
   ],
   "source": [
    "import pandas as pd\n",
    "\n",
    "# 读取文件\n",
    "file_path = './data/gpt_generated_medical_dialogue.xlsx'\n",
    "df = pd.read_excel(file_path)\n",
    "\n",
    "# 检查 'report-text' 列的前几行\n",
    "print(df['report-text'].head())\n",
    "\n",
    "# 检查是否有 NaN 值\n",
    "print(\"\\nNaN values in 'report- text':\")\n",
    "print(df['report-text'].isna().sum())\n",
    "\n",
    "# 确保所有值都是字符串类型\n",
    "non_string_values = df['report-text'][~df['report-text'].apply(lambda x: isinstance(x, str))]\n",
    "print(\"\\nNon-string values in 'report-text':\")\n",
    "print(non_string_values)\n"
   ]
  },
  {
   "cell_type": "code",
   "execution_count": null,
   "metadata": {},
   "outputs": [],
   "source": []
  }
 ],
 "metadata": {
  "kernelspec": {
   "display_name": "whisper-demo",
   "language": "python",
   "name": "python3"
  },
  "language_info": {
   "codemirror_mode": {
    "name": "ipython",
    "version": 3
   },
   "file_extension": ".py",
   "mimetype": "text/x-python",
   "name": "python",
   "nbconvert_exporter": "python",
   "pygments_lexer": "ipython3",
   "version": "3.10.12"
  }
 },
 "nbformat": 4,
 "nbformat_minor": 2
}
