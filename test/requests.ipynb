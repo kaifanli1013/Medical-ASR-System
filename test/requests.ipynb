{
 "cells": [
  {
   "cell_type": "code",
   "execution_count": 1,
   "metadata": {},
   "outputs": [],
   "source": [
    "import requests\n",
    "\n",
    "r = requests.get(\"http://httpbin.org/ip\")\n",
    "\n"
   ]
  },
  {
   "cell_type": "code",
   "execution_count": 2,
   "metadata": {},
   "outputs": [
    {
     "data": {
      "text/plain": [
       "{'origin': '163.221.132.88'}"
      ]
     },
     "execution_count": 2,
     "metadata": {},
     "output_type": "execute_result"
    }
   ],
   "source": [
    "r.json()\n"
   ]
  },
  {
   "cell_type": "code",
   "execution_count": 3,
   "metadata": {},
   "outputs": [],
   "source": [
    "r = requests.post(\"http://httpbin.org/post\", data={\"name\": \"leo\"})"
   ]
  },
  {
   "cell_type": "code",
   "execution_count": 4,
   "metadata": {},
   "outputs": [
    {
     "data": {
      "text/plain": [
       "{'args': {},\n",
       " 'data': '',\n",
       " 'files': {},\n",
       " 'form': {'name': 'leo'},\n",
       " 'headers': {'Accept': '*/*',\n",
       "  'Accept-Encoding': 'gzip, deflate',\n",
       "  'Content-Length': '8',\n",
       "  'Content-Type': 'application/x-www-form-urlencoded',\n",
       "  'Host': 'httpbin.org',\n",
       "  'User-Agent': 'python-requests/2.32.3',\n",
       "  'X-Amzn-Trace-Id': 'Root=1-669f9646-5e2bdf1e0ccda950553ff97c'},\n",
       " 'json': None,\n",
       " 'origin': '163.221.132.88',\n",
       " 'url': 'http://httpbin.org/post'}"
      ]
     },
     "execution_count": 4,
     "metadata": {},
     "output_type": "execute_result"
    }
   ],
   "source": [
    "r.json()"
   ]
  },
  {
   "cell_type": "code",
   "execution_count": 2,
   "metadata": {},
   "outputs": [
    {
     "data": {
      "text/plain": [
       "{'origin': '163.221.132.88'}"
      ]
     },
     "execution_count": 2,
     "metadata": {},
     "output_type": "execute_result"
    }
   ],
   "source": [
    "import requests\n",
    "\n",
    "r = requests.get(\"http://httpbin.org/ip\")\n",
    "r.json()"
   ]
  },
  {
   "cell_type": "code",
   "execution_count": 3,
   "metadata": {},
   "outputs": [
    {
     "data": {
      "text/plain": [
       "{'args': {},\n",
       " 'data': '',\n",
       " 'files': {},\n",
       " 'form': {'name': 'leo'},\n",
       " 'headers': {'Accept': '*/*',\n",
       "  'Accept-Encoding': 'gzip, deflate',\n",
       "  'Content-Length': '8',\n",
       "  'Content-Type': 'application/x-www-form-urlencoded',\n",
       "  'Host': 'httpbin.org',\n",
       "  'User-Agent': 'python-requests/2.32.3',\n",
       "  'X-Amzn-Trace-Id': 'Root=1-66a0c29a-651f6a477fd0587827978528'},\n",
       " 'json': None,\n",
       " 'origin': '163.221.132.88',\n",
       " 'url': 'http://httpbin.org/post'}"
      ]
     },
     "execution_count": 3,
     "metadata": {},
     "output_type": "execute_result"
    }
   ],
   "source": [
    "r = requests.post(\"http://httpbin.org/post\", data={\"name\": \"leo\"})\n",
    "r.json()"
   ]
  },
  {
   "cell_type": "code",
   "execution_count": 5,
   "metadata": {},
   "outputs": [
    {
     "name": "stdout",
     "output_type": "stream",
     "text": [
      "http://httpbin.org/get?key1=value1&key2=value2\n"
     ]
    }
   ],
   "source": [
    "                                                                                                                                                        d = {\"key1\": \"value1\", \"key2\": \"value2\"}\n",
    "r = requests.get(\"http://httpbin.org/get\", params=d)\n",
    "print(r.url)"
   ]
  },
  {
   "cell_type": "code",
   "execution_count": 7,
   "metadata": {},
   "outputs": [
    {
     "name": "stdout",
     "output_type": "stream",
     "text": [
      "{\n",
      "  \"origin\": \"163.221.132.88\"\n",
      "}\n",
      "\n"
     ]
    }
   ],
   "source": [
    "r = requests.get('http://httpbin.org/ip')\n",
    "print(r.text)"
   ]
  },
  {
   "cell_type": "code",
   "execution_count": 11,
   "metadata": {},
   "outputs": [
    {
     "name": "stdout",
     "output_type": "stream",
     "text": [
      "{'origin': '163.221.132.88'}\n",
      "163.221.132.88\n"
     ]
    }
   ],
   "source": [
    "r = requests.get('http://httpbin.org/ip')\n",
    "d = r.json()\n",
    "print(d)\n",
    "print(d['origin'])"
   ]
  },
  {
   "cell_type": "code",
   "execution_count": 12,
   "metadata": {},
   "outputs": [
    {
     "data": {
      "text/plain": [
       "200"
      ]
     },
     "execution_count": 12,
     "metadata": {},
     "output_type": "execute_result"
    }
   ],
   "source": [
    "r = requests.get('http://httpbin.org/get')\n",
    "r.status_code\n"
   ]
  },
  {
   "cell_type": "code",
   "execution_count": 13,
   "metadata": {},
   "outputs": [],
   "source": [
    "r.raise_for_status()"
   ]
  },
  {
   "cell_type": "code",
   "execution_count": 16,
   "metadata": {},
   "outputs": [
    {
     "name": "stdout",
     "output_type": "stream",
     "text": [
      "{'headers': {'Accept': '*/*', 'Accept-Encoding': 'gzip, deflate', 'Host': 'httpbin.org', 'User-Agent': 'python-requests/2.32.3', 'X-Amzn-Trace-Id': 'Root=1-66a0c847-4fc0dc066171bb5a105bfa0c'}}\n"
     ]
    },
    {
     "data": {
      "text/plain": [
       "{'Date': 'Wed, 24 Jul 2024 09:24:23 GMT', 'Content-Type': 'application/json', 'Content-Length': '225', 'Connection': 'keep-alive', 'Server': 'gunicorn/19.9.0', 'Access-Control-Allow-Origin': '*', 'Access-Control-Allow-Credentials': 'true'}"
      ]
     },
     "execution_count": 16,
     "metadata": {},
     "output_type": "execute_result"
    }
   ],
   "source": [
    "r = requests.get('http://httpbin.org/headers')\n",
    "print(r.json())\n",
    "r.headers"
   ]
  },
  {
   "cell_type": "code",
   "execution_count": 17,
   "metadata": {},
   "outputs": [
    {
     "data": {
      "text/plain": [
       "'{\\n  \"headers\": {\\n    \"Accept\": \"*/*\", \\n    \"Accept-Encoding\": \"gzip, deflate\", \\n    \"Host\": \"httpbin.org\", \\n    \"User-Agent\": \"my-app/0.0.1\", \\n    \"X-Amzn-Trace-Id\": \"Root=1-66a0c868-18ba4fdc655fb2966bc68c62\"\\n  }\\n}\\n'"
      ]
     },
     "execution_count": 17,
     "metadata": {},
     "output_type": "execute_result"
    }
   ],
   "source": [
    "url = 'http://httpbin.org/headers'\n",
    "headers = {'user-agent': 'my-app/0.0.1'}\n",
    "r = requests.get(url, headers=headers)\n",
    "r.text"
   ]
  },
  {
   "cell_type": "code",
   "execution_count": 18,
   "metadata": {},
   "outputs": [
    {
     "data": {
      "text/plain": [
       "'{\\n  \"args\": {}, \\n  \"data\": \"\", \\n  \"files\": {}, \\n  \"form\": {\\n    \"key1\": \"value1\", \\n    \"key2\": \"value2\"\\n  }, \\n  \"headers\": {\\n    \"Accept\": \"*/*\", \\n    \"Accept-Encoding\": \"gzip, deflate\", \\n    \"Content-Length\": \"23\", \\n    \"Content-Type\": \"application/x-www-form-urlencoded\", \\n    \"Host\": \"httpbin.org\", \\n    \"User-Agent\": \"python-requests/2.32.3\", \\n    \"X-Amzn-Trace-Id\": \"Root=1-66a0c8bc-7280e78405aee5ae6c15305f\"\\n  }, \\n  \"json\": null, \\n  \"origin\": \"163.221.132.88\", \\n  \"url\": \"http://httpbin.org/post\"\\n}\\n'"
      ]
     },
     "execution_count": 18,
     "metadata": {},
     "output_type": "execute_result"
    }
   ],
   "source": [
    "url = 'http://httpbin.org/post'\n",
    "d = {'key1': 'value1', 'key2': 'value2'}\n",
    "r = requests.post(url, data=d)\n",
    "r.text"
   ]
  },
  {
   "cell_type": "code",
   "execution_count": null,
   "metadata": {},
   "outputs": [],
   "source": []
  },
  {
   "cell_type": "code",
   "execution_count": null,
   "metadata": {},
   "outputs": [],
   "source": []
  },
  {
   "cell_type": "code",
   "execution_count": 1,
   "metadata": {},
   "outputs": [],
   "source": [
    "import qrcode\n",
    "\n",
    "img = qrcode.make('https://www.google.com')"
   ]
  },
  {
   "cell_type": "code",
   "execution_count": 2,
   "metadata": {},
   "outputs": [
    {
     "data": {
      "image/jpeg": "[encoded data removed]",
      "image/png": "[encoded data removed]",
      "text/plain": [
       "<qrcode.image.pil.PilImage at 0x14c5fc5515a0>"
      ]
     },
     "execution_count": 2,
     "metadata": {},
     "output_type": "execute_result"
    }
   ],
   "source": [
    "img"
   ]
  },
  {
   "cell_type": "code",
   "execution_count": null,
   "metadata": {},
   "outputs": [],
   "source": []
  },
  {
   "cell_type": "code",
   "execution_count": null,
   "metadata": {},
   "outputs": [],
   "source": []
  },
  {
   "cell_type": "code",
   "execution_count": 85,
   "metadata": {},
   "outputs": [],
   "source": [
    "import os\n",
    "import json\n",
    "import pandas as pd\n",
    "from csv import writer\n",
    "from openai import OpenAI\n",
    "from scipy import spatial\n",
    "from tenacity import retry, wait_random_exponential, stop_after_attempt\n",
    "from tqdm import tqdm\n"
   ]
  },
  {
   "cell_type": "code",
   "execution_count": 86,
   "metadata": {},
   "outputs": [],
   "source": [
    "GPT_MODEL = \"gpt-4o\"\n",
    "client = OpenAI()\n",
    "\n",
    "# Function to generate ChatCompletion response\n",
    "@retry(wait=wait_random_exponential(min=1, max=40), stop=stop_after_attempt(3))\n",
    "def chat_completion_request(messages, functions=None, model=GPT_MODEL):\n",
    "    try:\n",
    "        response = client.chat.completions.create(\n",
    "            model=model,\n",
    "            messages=messages,\n",
    "            tools=tools,\n",
    "            tool_choice=\"required\",\n",
    "        )\n",
    "        return response\n",
    "    except Exception as e:\n",
    "        print(\"Unable to generate ChatCompletion response\")\n",
    "        print(f\"Exception: {e}\")\n",
    "        return e\n"
   ]
  },
  {
   "cell_type": "code",
   "execution_count": 87,
   "metadata": {},
   "outputs": [],
   "source": [
    "rse = [\n",
    "    {\n",
    "        \"type\": \"function\",\n",
    "        \"function\": {\n",
    "            \"name\": \"get_weather\",\n",
    "            \"strict\": True,\n",
    "            \"parameters\": {\n",
    "                \"type\": \"object\",\n",
    "                \"properties\": {\n",
    "                    \"location\": {\"type\": \"string\"},\n",
    "                    \"unit\": {\"type\": \"string\", \"enum\": [\"c\", \"f\"]},\n",
    "                },\n",
    "                \"required\": [\"location\", \"unit\"],\n",
    "                \"additionalProperties\": False,\n",
    "            },\n",
    "        },\n",
    "    },\n",
    "    {\n",
    "        \"type\": \"function\",\n",
    "        \"function\": {\n",
    "            \"name\": \"get_stock_price\",\n",
    "            \"strict\": True,\n",
    "            \"parameters\": {\n",
    "                \"type\": \"object\",\n",
    "                \"properties\": {\n",
    "                    \"symbol\": {\"type\": \"string\"},\n",
    "                },\n",
    "                \"required\": [\"symbol\"],\n",
    "                # \"additionalProperties\": False,\n",
    "            },\n",
    "        },\n",
    "    },\n",
    "]\n",
    "\n",
    "\n",
    "tools = [\n",
    "    {\n",
    "        \"type\": \"function\",\n",
    "        \"function\": {\n",
    "            \"name\": \"gen_emr\",\n",
    "            \"strict\": True, \n",
    "            \"parameters\": {\n",
    "                \"type\": \"object\",\n",
    "                \"properties\": {\n",
    "                    # \"diagnosis\": {\"type\": \"string\"},\n",
    "                    # \"medical_history\": {\"type\": \"string\"},\n",
    "                    \"symptoms\": {\"type\": \"string\"},\n",
    "                },\n",
    "                \"required\": [\"symptoms\"],\n",
    "                \"additionalProperties\": False,\n",
    "            },\n",
    "        },\n",
    "    },\n",
    "]\n",
    "\n",
    "func=[\n",
    "    {\n",
    "        \"name\": \"generate_emr\",\n",
    "        \"description\": \"会話に基づいて電子病歴を生成します\",\n",
    "        \"parameters\": {\n",
    "            \"type\": \"object\",\n",
    "            \"properties\": {\n",
    "                \"diagnosis\": {\"type\": \"string\", \"description\": \"診断結果\"},\n",
    "                \"medical_history\": {\"type\": \"string\", \"description\": \"病歴\"},\n",
    "                \"symptoms\": {\"type\": \"string\", \"description\": \"症状\"},\n",
    "            },\n",
    "            \"required\": [\"diagnosis\"],\n",
    "        }\n",
    "    }\n",
    "]"
   ]
  },
  {
   "cell_type": "code",
   "execution_count": 88,
   "metadata": {},
   "outputs": [],
   "source": [
    "class Conversation:\n",
    "    def __init__(self):\n",
    "        self.conversation_history = []\n",
    "\n",
    "    def add_message(self, role, content):\n",
    "        message = {\"role\": role, \"content\": content}\n",
    "        self.conversation_history.append(message)"
   ]
  },
  {
   "cell_type": "code",
   "execution_count": 89,
   "metadata": {},
   "outputs": [
    {
     "data": {
      "text/plain": [
       "'\\n2\\n00:00:03,600 --> 00:00:08,140\\nSPEAKER_00|うつ病の診断は、普通に症状がどれぐらいあるかだよね\\n\\n3\\n00:00:08,140 --> 00:00:12,439\\nSPEAKER_00|落ち込んでるとか、調子が悪いとか、寝れてないとか、食べれてないとか\\n\\n4\\n00:00:12,439 --> 00:00:14,339\\nSPEAKER_00|そういうことやる気が出てないとか\\n\\n5\\n00:00:14,339 --> 00:00:18,379\\nSPEAKER_01|患者さんが来てそれを言ったら、じゃああなたうつ病ですって診断するんですか?\\n\\n6\\n00:00:18,580 --> 00:00:21,300\\nSPEAKER_00|まあそうだよね、うつ症状だよね\\n\\n7\\n00:00:21,300 --> 00:00:25,400\\nSPEAKER_00|それであとは時系列を聞いたりとか、いつ頃からなったのかで\\n\\n8\\n00:00:25,400 --> 00:00:30,900\\nSPEAKER_00|うつ病なのか、PTSDなのか、発達障害、認知障害としてうつ状態なのか\\n\\n9\\n00:00:30,900 --> 00:00:35,679\\nSPEAKER_00|一過性のストレスなのか、適応障害なのか、まあいろいろ判断したりするけどね\\n\\n10\\n00:00:35,679 --> 00:00:36,020\\nSPEAKER_00|ありがとうございます\\n'"
      ]
     },
     "execution_count": 89,
     "metadata": {},
     "output_type": "execute_result"
    }
   ],
   "source": [
    "content = \"\"\"\n",
    "1\n",
    "00:00:00,000 --> 00:00:04,000\n",
    "では次のシーンです\n",
    "\n",
    "2\n",
    "00:00:04,240 --> 00:00:08,359\n",
    "下村さんの鎖骨の細胞から\n",
    "\n",
    "3\n",
    "00:00:08,800 --> 00:00:12,439\n",
    "がん細胞が認められました\n",
    "\n",
    "4\n",
    "00:00:12,439 --> 00:00:29,079\n",
    "でも手術できるんですよね\n",
    "\n",
    "5\n",
    "00:00:29,079 --> 00:00:36,719\n",
    "治療のことなど今後のことが気になりますよね\n",
    "\n",
    "6\n",
    "00:00:36,719 --> 00:00:44,920\n",
    "治療のことを説明する前に下村さんの病状について\n",
    "\n",
    "7\n",
    "00:00:44,920 --> 00:00:50,039\n",
    "もう少し説明させてもらってもいいですか\n",
    "\n",
    "8\n",
    "00:00:50,039 --> 00:00:52,799\n",
    "今回はがんを伝えること\n",
    "\n",
    "9\n",
    "00:00:52,799 --> 00:00:55,239\n",
    "そしてそのがんが治らないこと\n",
    "\n",
    "10\n",
    "00:00:55,239 --> 00:00:58,519\n",
    "その2つを伝えるというケースでした\n",
    "\n",
    "11\n",
    "00:00:58,519 --> 00:01:03,960\n",
    "その非常に大きな意味を持つがんであること\n",
    "\n",
    "12\n",
    "00:01:03,960 --> 00:01:08,640\n",
    "治らないことの後には患者さんの感情が揺さぶられます\n",
    "\n",
    "13\n",
    "00:01:08,640 --> 00:01:11,960\n",
    "その感情に対してやはり共感を示すためには\n",
    "\n",
    "14\n",
    "00:01:11,960 --> 00:01:13,960\n",
    "十分に時間をとって\n",
    "\n",
    "15\n",
    "00:01:13,960 --> 00:01:15,879\n",
    "具体的には沈黙ですけど\n",
    "\n",
    "16\n",
    "00:01:15,879 --> 00:01:18,760\n",
    "10秒ぐらい取ることが非常に重要です\n",
    "\n",
    "17\n",
    "00:01:18,760 --> 00:01:21,960\n",
    "その沈黙をとることによって\n",
    "\n",
    "18\n",
    "00:01:21,960 --> 00:01:23,599\n",
    "感情が出せた後\n",
    "\n",
    "19\n",
    "00:01:23,599 --> 00:01:27,640\n",
    "また患者さんは次の情報を少し聞くことができます\n",
    "\n",
    "20\n",
    "00:01:27,640 --> 00:01:31,359\n",
    "そして今回はがんの別の側面\n",
    "\n",
    "21\n",
    "00:01:31,359 --> 00:01:34,599\n",
    "具体的には日常生活に与える影響について\n",
    "\n",
    "22\n",
    "00:01:34,599 --> 00:01:37,280\n",
    "説明が続けられました\n",
    "\n",
    "23\n",
    "00:01:37,280 --> 00:01:39,239\n",
    "その説明をした後も\n",
    "\n",
    "24\n",
    "00:01:39,239 --> 00:01:44,359\n",
    "やはり感情について配慮するために沈黙を使って\n",
    "\n",
    "25\n",
    "00:01:44,359 --> 00:01:46,920\n",
    "そしてその具体的な確認には\n",
    "\n",
    "26\n",
    "00:01:46,920 --> 00:01:50,039\n",
    "理解がいかがですか\n",
    "\n",
    "27\n",
    "00:01:50,039 --> 00:01:51,799\n",
    "話が早くないですかと\n",
    "\n",
    "28\n",
    "00:01:51,799 --> 00:01:53,760\n",
    "そういった言葉を挟みました\n",
    "\n",
    "29\n",
    "00:01:53,760 --> 00:01:57,319\n",
    "そういった言葉を挟みながら\n",
    "\n",
    "30\n",
    "00:01:57,319 --> 00:02:00,400\n",
    "情報を伝えて感情に配慮して\n",
    "\n",
    "31\n",
    "00:02:00,400 --> 00:02:03,280\n",
    "そして次に進むかどうかを確認する\n",
    "\n",
    "32\n",
    "00:02:03,280 --> 00:02:06,960\n",
    "その繰り返しを何度も行ったわけですけど\n",
    "\n",
    "33\n",
    "00:02:06,960 --> 00:02:09,599\n",
    "最後にまとめを行って\n",
    "\n",
    "34\n",
    "00:02:09,599 --> 00:02:15,680\n",
    "コミュニケーションを閉じるということになったかと思います\n",
    "\n",
    "35\n",
    "00:02:15,680 --> 00:02:19,360\n",
    "以上手術不可能な進行期肺がんの告知について\n",
    "\n",
    "36\n",
    "00:02:19,360 --> 00:02:21,759\n",
    "シェアを使ったケースをご覧いただきました\n",
    "\n",
    "\n",
    "\"\"\"\n",
    "\"\"\"\n",
    "2\n",
    "00:00:03,600 --> 00:00:08,140\n",
    "SPEAKER_00|うつ病の診断は、普通に症状がどれぐらいあるかだよね\n",
    "\n",
    "3\n",
    "00:00:08,140 --> 00:00:12,439\n",
    "SPEAKER_00|落ち込んでるとか、調子が悪いとか、寝れてないとか、食べれてないとか\n",
    "\n",
    "4\n",
    "00:00:12,439 --> 00:00:14,339\n",
    "SPEAKER_00|そういうことやる気が出てないとか\n",
    "\n",
    "5\n",
    "00:00:14,339 --> 00:00:18,379\n",
    "SPEAKER_01|患者さんが来てそれを言ったら、じゃああなたうつ病ですって診断するんですか?\n",
    "\n",
    "6\n",
    "00:00:18,580 --> 00:00:21,300\n",
    "SPEAKER_00|まあそうだよね、うつ症状だよね\n",
    "\n",
    "7\n",
    "00:00:21,300 --> 00:00:25,400\n",
    "SPEAKER_00|それであとは時系列を聞いたりとか、いつ頃からなったのかで\n",
    "\n",
    "8\n",
    "00:00:25,400 --> 00:00:30,900\n",
    "SPEAKER_00|うつ病なのか、PTSDなのか、発達障害、認知障害としてうつ状態なのか\n",
    "\n",
    "9\n",
    "00:00:30,900 --> 00:00:35,679\n",
    "SPEAKER_00|一過性のストレスなのか、適応障害なのか、まあいろいろ判断したりするけどね\n",
    "\n",
    "10\n",
    "00:00:35,679 --> 00:00:36,020\n",
    "SPEAKER_00|ありがとうございます\n",
    "\"\"\""
   ]
  },
  {
   "cell_type": "code",
   "execution_count": 90,
   "metadata": {},
   "outputs": [],
   "source": [
    "system_message = \"あなたは医療アシスタントです。会話からカルテを抽出してください\"\n",
    "conversation = Conversation()\n",
    "conversation.add_message(\"system\", system_message)"
   ]
  },
  {
   "cell_type": "code",
   "execution_count": 91,
   "metadata": {},
   "outputs": [
    {
     "name": "stdout",
     "output_type": "stream",
     "text": [
      "ChatCompletion(id='chatcmpl-AC7EbfbBso4Ai9EWHk7OShMCPIpPj', choices=[Choice(finish_reason='stop', index=0, logprobs=None, message=ChatCompletionMessage(content=None, refusal=None, role='assistant', function_call=None, tool_calls=[ChatCompletionMessageToolCall(id='call_ly219aOxD2hZ4L1s1zOlKw33', function=Function(arguments='{\"symptoms\":\"がん細胞が鎖骨に見つかる。手術不可能な進行期肺がん。\"}', name='gen_emr'), type='function')]))], created=1727451109, model='gpt-4o-2024-05-13', object='chat.completion', service_tier=None, system_fingerprint='fp_c17d3befe7', usage=CompletionUsage(completion_tokens=39, prompt_tokens=1190, total_tokens=1229, completion_tokens_details={'reasoning_tokens': 0}))\n"
     ]
    }
   ],
   "source": [
    "conversation.add_message(\"user\", \"以下の会話からカルテを抽出してください\" + content)\n",
    "chat_response = chat_completion_request(messages=conversation.conversation_history)\n",
    "\n",
    "print(chat_response)"
   ]
  },
  {
   "cell_type": "code",
   "execution_count": 6,
   "metadata": {},
   "outputs": [
    {
     "data": {
      "image/jpeg": "[encoded data removed]",
      "image/png": "[encoded data removed]",
      "text/plain": [
       "<qrcode.image.pil.PilImage at 0x146dd9aad900>"
      ]
     },
     "execution_count": 6,
     "metadata": {},
     "output_type": "execute_result"
    }
   ],
   "source": [
    "import qrcode\n",
    "\n",
    "img = qrcode.make('https://www.google.com', box_size=1, border=2)\n",
    "img "
   ]
  },
  {
   "cell_type": "code",
   "execution_count": null,
   "metadata": {},
   "outputs": [],
   "source": []
  },
  {
   "cell_type": "code",
   "execution_count": null,
   "metadata": {},
   "outputs": [],
   "source": []
  }
 ],
 "metadata": {
  "kernelspec": {
   "display_name": "whisper-demo",
   "language": "python",
   "name": "python3"
  },
  "language_info": {
   "codemirror_mode": {
    "name": "ipython",
    "version": 3
   },
   "file_extension": ".py",
   "mimetype": "text/x-python",
   "name": "python",
   "nbconvert_exporter": "python",
   "pygments_lexer": "ipython3",
   "version": "3.10.12"
  }
 },
 "nbformat": 4,
 "nbformat_minor": 2
}
